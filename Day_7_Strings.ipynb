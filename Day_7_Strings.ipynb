{
 "cells": [
  {
   "cell_type": "code",
   "execution_count": 1,
   "metadata": {},
   "outputs": [
    {
     "name": "stdout",
     "output_type": "stream",
     "text": [
      "Hello\n",
      "Hello\n"
     ]
    }
   ],
   "source": [
    "#Day_7 : Python Strings.\n",
    "\n",
    "#Display a string literal with the print() function\n",
    "#'Hello' is the same as \"Hello\"\n",
    "print(\"Hello\")\n",
    "print('Hello')\n"
   ]
  },
  {
   "cell_type": "code",
   "execution_count": 2,
   "metadata": {},
   "outputs": [
    {
     "name": "stdout",
     "output_type": "stream",
     "text": [
      " Hi :) \n"
     ]
    }
   ],
   "source": [
    "#Assigning a string to a variable:\n",
    "\n",
    "a = \" Hi :) \"\n",
    "print(a)\n",
    "\n",
    "\n"
   ]
  },
  {
   "cell_type": "code",
   "execution_count": 3,
   "metadata": {},
   "outputs": [
    {
     "name": "stdout",
     "output_type": "stream",
     "text": [
      " Your Self-Worth is not defined by how other people treat you ! .\n"
     ]
    }
   ],
   "source": [
    "#You can assign a multiline string to a variable by using (\"\"\")\n",
    "a = \"\"\" Your Self-Worth is not defined by how other people treat you ! .\"\"\"\n",
    "print(a)"
   ]
  },
  {
   "cell_type": "code",
   "execution_count": 4,
   "metadata": {},
   "outputs": [
    {
     "name": "stdout",
     "output_type": "stream",
     "text": [
      "e\n",
      "llo\n"
     ]
    }
   ],
   "source": [
    "#Strings in Python are arrays of bytes representing Unicode characters\n",
    "\n",
    "#Get the character at index 1 :\n",
    "#Indexing start with 0\n",
    "\n",
    "a = \"Hello, World!\"\n",
    "print(a[1])\n",
    "\n",
    "#Get the characters from index 2 to index 5 (not included)\n",
    "\n",
    "b = \"Hello, World!\"\n",
    "print(b[2:5])\n",
    "\n"
   ]
  }
 ],
 "metadata": {
  "kernelspec": {
   "display_name": "Python 3",
   "language": "python",
   "name": "python3"
  },
  "language_info": {
   "codemirror_mode": {
    "name": "ipython",
    "version": 3
   },
   "file_extension": ".py",
   "mimetype": "text/x-python",
   "name": "python",
   "nbconvert_exporter": "python",
   "pygments_lexer": "ipython3",
   "version": "3.7.3"
  }
 },
 "nbformat": 4,
 "nbformat_minor": 2
}
