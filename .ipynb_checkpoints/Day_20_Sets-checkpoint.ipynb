{
 "cells": [
  {
   "cell_type": "code",
   "execution_count": 1,
   "metadata": {},
   "outputs": [
    {
     "name": "stdout",
     "output_type": "stream",
     "text": [
      "Empty Set: {} \n",
      "\n"
     ]
    }
   ],
   "source": [
    "#Day 20 | Sets\n",
    "\n",
    "Set1 = {}\n",
    "print(\"Empty Set:\",Set1,\"\\n\")"
   ]
  },
  {
   "cell_type": "code",
   "execution_count": 2,
   "metadata": {},
   "outputs": [
    {
     "name": "stdout",
     "output_type": "stream",
     "text": [
      "{'Banana', 'Cherry', 'Apple'} \n",
      "\n",
      "{'Banana', 'Cherry', 'Orange', 'Apple'} \n",
      "\n",
      "{'Grapes', 'Apple', 'Banana', 'Mango', 'Orange', 'Cherry'}\n"
     ]
    }
   ],
   "source": [
    "#Sets are unordered, so you cannot be sure in which order the items will appear.\n",
    "\n",
    "Set2 = {\"Apple\" , \"Banana\" , \"Cherry\"}\n",
    "print(Set2,\"\\n\")\n",
    "\n",
    "#Add an one item to a set, using the add() method:\n",
    "Set2.add(\"Orange\")\n",
    "print(Set2,\"\\n\")\n",
    "\n",
    "#Add multiple items to a set, using the update() method:\n",
    "Set2.update([\"Orange\" , \"Mango\" , \"Grapes\"])\n",
    "print(Set2)"
   ]
  },
  {
   "cell_type": "code",
   "execution_count": 3,
   "metadata": {},
   "outputs": [
    {
     "name": "stdout",
     "output_type": "stream",
     "text": [
      "{1, 2, 5, 'Ahmad'}\n"
     ]
    }
   ],
   "source": [
    "Set3 = {\"Ahmad\" , \"Ahmad\" , 1 , 2 , 1 , 5}\n",
    "print(Set3)\n",
    "\n"
   ]
  },
  {
   "cell_type": "code",
   "execution_count": 4,
   "metadata": {},
   "outputs": [
    {
     "name": "stdout",
     "output_type": "stream",
     "text": [
      "Green \n",
      "\n",
      "Red \n",
      "\n",
      "Black \n",
      "\n",
      "Check if 'Green' is present in the set: True\n"
     ]
    }
   ],
   "source": [
    "Set4 = {\"Black\" , \"Green\" , \"Red\"}\n",
    "for x in Set4:\n",
    "    print(x,\"\\n\")\n",
    "    \n",
    "#Check\n",
    "print(\"Check if 'Green' is present in the set:\",\"Green\" in Set4)"
   ]
  }
 ],
 "metadata": {
  "kernelspec": {
   "display_name": "Python 3",
   "language": "python",
   "name": "python3"
  },
  "language_info": {
   "codemirror_mode": {
    "name": "ipython",
    "version": 3
   },
   "file_extension": ".py",
   "mimetype": "text/x-python",
   "name": "python",
   "nbconvert_exporter": "python",
   "pygments_lexer": "ipython3",
   "version": "3.7.3"
  }
 },
 "nbformat": 4,
 "nbformat_minor": 2
}
