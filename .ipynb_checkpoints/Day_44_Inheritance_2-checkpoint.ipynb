{
 "cells": [
  {
   "cell_type": "code",
   "execution_count": 1,
   "metadata": {},
   "outputs": [
    {
     "name": "stdout",
     "output_type": "stream",
     "text": [
      "Sara Mohammad\n",
      "2019\n",
      "Welcome Sara Mohammad to the class of  2019\n"
     ]
    }
   ],
   "source": [
    "#Day 44 Inheritance 2\n",
    "\n",
    "\n",
    "#Use the super() Function\n",
    "class Person:\n",
    "    def __init__(self,fname,lname):\n",
    "        self.firstname = fname\n",
    "        self.lastname = lname\n",
    "        \n",
    "    def printname(self):\n",
    "        print(self.firstname,self.lastname)\n",
    "\n",
    "class Student(Person):\n",
    "    def __init__(self,fname,lname,year):\n",
    "            super().__init__(fname,lname)  \n",
    "           \n",
    "             #Add Properties\n",
    "            self.graduationyear = year\n",
    "    def welcome(self):\n",
    "        print(\"Welcome\" ,self.firstname,self.lastname, \"to the class of \" , self.graduationyear)\n",
    "            \n",
    "x = Student(\"Sara\" , \"Mohammad\" , 2019)\n",
    "x.printname()\n",
    "print(x.graduationyear)\n",
    "x.welcome()"
   ]
  }
 ],
 "metadata": {
  "kernelspec": {
   "display_name": "Python 3",
   "language": "python",
   "name": "python3"
  },
  "language_info": {
   "codemirror_mode": {
    "name": "ipython",
    "version": 3
   },
   "file_extension": ".py",
   "mimetype": "text/x-python",
   "name": "python",
   "nbconvert_exporter": "python",
   "pygments_lexer": "ipython3",
   "version": "3.7.3"
  }
 },
 "nbformat": 4,
 "nbformat_minor": 2
}
