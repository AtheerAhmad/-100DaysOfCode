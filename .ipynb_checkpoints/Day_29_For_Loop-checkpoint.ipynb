{
 "cells": [
  {
   "cell_type": "code",
   "execution_count": 1,
   "metadata": {},
   "outputs": [
    {
     "name": "stdout",
     "output_type": "stream",
     "text": [
      "Apple\n",
      "Banana\n",
      "Cherry\n"
     ]
    }
   ],
   "source": [
    "#Day 29 - Python Loops_2\n",
    "#For loop\n",
    "\n",
    "\n",
    "#Print each fruit in a fruit list\n",
    "\n",
    "Fruits = [\"Apple\" , \"Banana\" , \"Cherry\"]\n",
    "for x in Fruits:\n",
    "    print(x)\n"
   ]
  },
  {
   "cell_type": "code",
   "execution_count": 2,
   "metadata": {},
   "outputs": [
    {
     "name": "stdout",
     "output_type": "stream",
     "text": [
      "B\n",
      "a\n",
      "n\n",
      "a\n",
      "n\n",
      "a\n"
     ]
    }
   ],
   "source": [
    "#Looping Through a String\n",
    "#Loop through the letters in the word \"banana\"\n",
    "for x in \"Banana\" :\n",
    "    print(x)"
   ]
  },
  {
   "cell_type": "code",
   "execution_count": 3,
   "metadata": {},
   "outputs": [
    {
     "name": "stdout",
     "output_type": "stream",
     "text": [
      "Orange\n",
      "Banana\n"
     ]
    }
   ],
   "source": [
    "#The break Statement\n",
    "#Exit the loop when x is \"banana\"\n",
    "\n",
    "fruits = [\"Orange\" , \"Banana\" , \"Mango\" , \"Cherry\"]\n",
    "for x in fruits:\n",
    "    print(x)\n",
    "    if x == \"Banana\":\n",
    "        break"
   ]
  },
  {
   "cell_type": "code",
   "execution_count": 4,
   "metadata": {},
   "outputs": [
    {
     "name": "stdout",
     "output_type": "stream",
     "text": [
      "Orange\n"
     ]
    }
   ],
   "source": [
    "#Exit the loop when x is \"banana\", but this time the break comes before the print.\n",
    "fruits = [\"Orange\" , \"Banana\" , \"Mango\" , \"Cherry\"]\n",
    "for x in fruits:\n",
    "    if x == \"Banana\":\n",
    "        break\n",
    "    print(x)"
   ]
  },
  {
   "cell_type": "code",
   "execution_count": 5,
   "metadata": {},
   "outputs": [
    {
     "name": "stdout",
     "output_type": "stream",
     "text": [
      "Orange\n",
      "Mango\n",
      "Cherry\n"
     ]
    }
   ],
   "source": [
    "#The continue Statement\n",
    "fruits = [\"Orange\" , \"Banana\" , \"Mango\" , \"Cherry\"]\n",
    "for x in fruits:\n",
    "    if x == \"Banana\":\n",
    "        continue\n",
    "    print(x)"
   ]
  }
 ],
 "metadata": {
  "kernelspec": {
   "display_name": "Python 3",
   "language": "python",
   "name": "python3"
  },
  "language_info": {
   "codemirror_mode": {
    "name": "ipython",
    "version": 3
   },
   "file_extension": ".py",
   "mimetype": "text/x-python",
   "name": "python",
   "nbconvert_exporter": "python",
   "pygments_lexer": "ipython3",
   "version": "3.7.3"
  }
 },
 "nbformat": 4,
 "nbformat_minor": 2
}
