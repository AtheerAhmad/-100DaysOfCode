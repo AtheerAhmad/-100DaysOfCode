{
 "cells": [
  {
   "cell_type": "code",
   "execution_count": 1,
   "metadata": {},
   "outputs": [
    {
     "name": "stdout",
     "output_type": "stream",
     "text": [
      "4\n"
     ]
    }
   ],
   "source": [
    "#Day 15 | Lists 3 - List Method\n",
    "\n",
    "#To determine how many items a list has, use the len() method\n",
    "\n",
    "list_1 = [\"Apple\" , \"Banana\" , \"Cherry\" ,\"Banana\"]\n",
    "print(len(list_1))\n",
    "\n",
    "\n"
   ]
  },
  {
   "cell_type": "code",
   "execution_count": 2,
   "metadata": {},
   "outputs": [
    {
     "name": "stdout",
     "output_type": "stream",
     "text": [
      "['Apple', 'Banana', 'Cherry', 'Banana', 'Orange']\n"
     ]
    }
   ],
   "source": [
    "#append() method: add an element at the end of the list.\n",
    "list_1.append(\"Orange\")\n",
    "print(list_1)\n",
    "\n"
   ]
  },
  {
   "cell_type": "code",
   "execution_count": 3,
   "metadata": {},
   "outputs": [
    {
     "name": "stdout",
     "output_type": "stream",
     "text": [
      "['Apple', 'Mango', 'Banana', 'Cherry', 'Banana', 'Orange']\n"
     ]
    }
   ],
   "source": [
    "#To add an item at the specified index, use the insert() method.\n",
    "list_1.insert(1,\"Mango\")\n",
    "print(list_1)\n"
   ]
  },
  {
   "cell_type": "code",
   "execution_count": 4,
   "metadata": {},
   "outputs": [
    {
     "name": "stdout",
     "output_type": "stream",
     "text": [
      "['Apple', 'Mango', 'Cherry', 'Banana', 'Orange']\n"
     ]
    }
   ],
   "source": [
    "#The remove() method removes the specified item.\n",
    "list_1.remove(\"Banana\") #notice: remove the first banana\n",
    "print(list_1) \n",
    "\n"
   ]
  },
  {
   "cell_type": "code",
   "execution_count": 5,
   "metadata": {},
   "outputs": [
    {
     "name": "stdout",
     "output_type": "stream",
     "text": [
      "['Apple', 'Mango', 'Banana', 'Orange']\n"
     ]
    }
   ],
   "source": [
    "#Pop method : removes the element at specified postion\n",
    "list_1.pop(2) \n",
    "print(list_1)\n",
    "\n"
   ]
  },
  {
   "cell_type": "code",
   "execution_count": 6,
   "metadata": {},
   "outputs": [
    {
     "name": "stdout",
     "output_type": "stream",
     "text": [
      "['Apple', 'Mango', 'Banana']\n"
     ]
    }
   ],
   "source": [
    "#remove the last item if index is not specified.\n",
    "list_1.pop() \n",
    "print(list_1)\n",
    "\n"
   ]
  },
  {
   "cell_type": "code",
   "execution_count": 7,
   "metadata": {},
   "outputs": [
    {
     "name": "stdout",
     "output_type": "stream",
     "text": [
      "[]\n"
     ]
    }
   ],
   "source": [
    "#The clear() method empties the list.\n",
    "list_1.clear() \n",
    "print(list_1)"
   ]
  },
  {
   "cell_type": "code",
   "execution_count": 8,
   "metadata": {},
   "outputs": [
    {
     "name": "stdout",
     "output_type": "stream",
     "text": [
      "Output of mylist:  ['Apple', 'Banana', 'Cherry', 'Banana']\n",
      "Output of list_1:  ['Banana', 'Cherry', 'Banana']\n"
     ]
    }
   ],
   "source": [
    "list_1 = [\"Apple\" , \"Banana\" , \"Cherry\" ,\"Banana\"]\n",
    "mylist = list_1.copy() #Returns a copy of the list.\n",
    "list_1.pop(0) \n",
    "print(\"Output of mylist: \" ,mylist )\n",
    "print(\"Output of list_1: \" ,list_1)"
   ]
  },
  {
   "cell_type": "code",
   "execution_count": 9,
   "metadata": {},
   "outputs": [
    {
     "name": "stdout",
     "output_type": "stream",
     "text": [
      "['Banana', 'Cherry', 'Banana']\n",
      "['Banana', 'Cherry', 'Banana']\n"
     ]
    }
   ],
   "source": [
    "list_1 = [\"Apple\" , \"Banana\" , \"Cherry\" ,\"Banana\"]\n",
    "mylist = list_1\n",
    "list_1.pop(0)\n",
    "print(mylist)\n",
    "print(list_1)"
   ]
  },
  {
   "cell_type": "code",
   "execution_count": 10,
   "metadata": {},
   "outputs": [
    {
     "name": "stdout",
     "output_type": "stream",
     "text": [
      "['Apple', 'Banana', 'Cherry']\n"
     ]
    }
   ],
   "source": [
    "#Another way to make a copy is to use the built-in method list().\n",
    "list_2 = [\"Apple\" , \"Banana\" , \"Cherry\"]\n",
    "mylist = list(list_2)\n",
    "print(mylist)\n"
   ]
  },
  {
   "cell_type": "code",
   "execution_count": 11,
   "metadata": {},
   "outputs": [
    {
     "name": "stdout",
     "output_type": "stream",
     "text": [
      "['A', 'B', 'C']\n"
     ]
    }
   ],
   "source": [
    "#Use the list() constructor to make a new list.\n",
    "listt3=list((\"A\" , \"B\" , \"C\"))\n",
    "print(listt3)"
   ]
  }
 ],
 "metadata": {
  "kernelspec": {
   "display_name": "Python 3",
   "language": "python",
   "name": "python3"
  },
  "language_info": {
   "codemirror_mode": {
    "name": "ipython",
    "version": 3
   },
   "file_extension": ".py",
   "mimetype": "text/x-python",
   "name": "python",
   "nbconvert_exporter": "python",
   "pygments_lexer": "ipython3",
   "version": "3.7.3"
  }
 },
 "nbformat": 4,
 "nbformat_minor": 2
}
