{
 "cells": [
  {
   "cell_type": "code",
   "execution_count": 1,
   "metadata": {},
   "outputs": [
    {
     "name": "stdout",
     "output_type": "stream",
     "text": [
      "15\n",
      "8\n",
      "2\n",
      "1.6666666666666667\n",
      "125\n",
      "1\n",
      "2\n"
     ]
    }
   ],
   "source": [
    "#Day_10 | Operators\n",
    "\n",
    "#Arithmetic Operators \n",
    "\n",
    "x = 5 \n",
    "y = 3 \n",
    "print(x*y) #Multiplication\n",
    " \n",
    "print(x+y) #Addtion\n",
    "\n",
    "print(x-y) #Subtraction\n",
    "\n",
    "print(x/y) #Division\n",
    "\n",
    "print(x**y) #Exponentiation\n",
    "\n",
    "print(x//y) #Floor division\n",
    "\n",
    "print(x%y) #Modulus"
   ]
  },
  {
   "cell_type": "code",
   "execution_count": 2,
   "metadata": {},
   "outputs": [
    {
     "name": "stdout",
     "output_type": "stream",
     "text": [
      "1.6666666666666667\n",
      "8\n",
      "2\n",
      "15\n",
      "2\n",
      "1\n",
      "125\n",
      "1\n",
      "7\n",
      "6\n",
      "0\n",
      "40\n"
     ]
    }
   ],
   "source": [
    "#Python Assignment Operators\n",
    "\n",
    "x = 5 \n",
    "x /= 3\n",
    "\n",
    "print(x)\n",
    "\n",
    "x = 5 \n",
    "x += 3\n",
    "\n",
    "print(x)\n",
    "\n",
    "x = 5 \n",
    "x -= 3\n",
    "\n",
    "print(x)\n",
    "\n",
    "x = 5 \n",
    "x *= 3\n",
    "\n",
    "print(x)\n",
    "\n",
    "x = 5 \n",
    "x %= 3\n",
    "\n",
    "print(x)\n",
    "\n",
    "x = 5 \n",
    "x //= 3\n",
    "\n",
    "print(x)\n",
    "\n",
    "x = 5 \n",
    "x **= 3\n",
    "\n",
    "print(x)\n",
    "\n",
    "\n",
    "x = 5 \n",
    "x &= 3\n",
    "\n",
    "print(x)\n",
    "\n",
    "\n",
    "x = 5 \n",
    "x |= 3\n",
    "\n",
    "print(x)\n",
    "\n",
    "\n",
    "x = 5 \n",
    "x ^= 3\n",
    "\n",
    "print(x)\n",
    "\n",
    "x = 5 \n",
    "x >>= 3\n",
    "\n",
    "print(x)\n",
    "\n",
    "x = 5 \n",
    "x <<= 3\n",
    "\n",
    "print(x)\n",
    "\n"
   ]
  },
  {
   "cell_type": "code",
   "execution_count": 3,
   "metadata": {},
   "outputs": [
    {
     "name": "stdout",
     "output_type": "stream",
     "text": [
      "False\n",
      "True\n",
      "False\n",
      "False\n",
      "True\n"
     ]
    }
   ],
   "source": [
    "#Python Comparison Operators\n",
    "\n",
    "x = 5 \n",
    "y = 3\n",
    "\n",
    "print(x < y) #Less than\n",
    "\n",
    "\n",
    "x = 5 \n",
    "y = 3\n",
    "\n",
    "print(x > y) #Greater than\n",
    "\n",
    "\n",
    "x = 5 \n",
    "y = 3\n",
    "\n",
    "print(x == y) #Equal\n",
    "\n",
    "\n",
    "x = 5 \n",
    "y = 3\n",
    "\n",
    "print(x <= y) #Less than or equal to\n",
    "\n",
    "x = 5 \n",
    "y = 3\n",
    "\n",
    "print(x >= y) #Greater than or equal to\n"
   ]
  }
 ],
 "metadata": {
  "kernelspec": {
   "display_name": "Python 3",
   "language": "python",
   "name": "python3"
  },
  "language_info": {
   "codemirror_mode": {
    "name": "ipython",
    "version": 3
   },
   "file_extension": ".py",
   "mimetype": "text/x-python",
   "name": "python",
   "nbconvert_exporter": "python",
   "pygments_lexer": "ipython3",
   "version": "3.7.3"
  }
 },
 "nbformat": 4,
 "nbformat_minor": 2
}
