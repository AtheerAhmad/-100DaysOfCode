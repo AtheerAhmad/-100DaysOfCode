{
 "cells": [
  {
   "cell_type": "code",
   "execution_count": 23,
   "metadata": {},
   "outputs": [
    {
     "name": "stdout",
     "output_type": "stream",
     "text": [
      "['A', 'B', 'C', 'C']\n",
      "['A', 'B', 'C', 'C', 'D']\n",
      "Output of List_1:  ['A', 'B', 'C', 'C', 'D'] \n",
      "\n",
      "Output of MyList:  ['A', 'B', 'C', 'C', 'D'] \n",
      "\n",
      "Pop the list :  ['B', 'C', 'C', 'D'] \n",
      "\n",
      "The count of C is: 2\n"
     ]
    }
   ],
   "source": [
    "#Day 18 & 19 | Task\n",
    "\n",
    "List_1 = [\"A\", \"B\" ,\"C\" , \"C\"]\n",
    "print(List_1)\n",
    "\n",
    "#Add item to the last index :\n",
    "List_1.append(\"D\")\n",
    "print(List_1)\n",
    "\n",
    "#Copy of the list:\n",
    "MyList = List_1.copy()\n",
    "print(\"Output of List_1: \" ,List_1,\"\\n\")\n",
    "print(\"Output of MyList: \" ,MyList,\"\\n\")\n",
    "\n",
    "#Removes the element at the specified position.\n",
    "List_1.pop(0)\n",
    "print(\"Pop the list : \" ,List_1 ,\"\\n\")\n",
    "\n",
    "# count element 'C'\n",
    "count = List_1.count(\"C\")\n",
    "# print count\n",
    "print('The count of C is:', count)"
   ]
  },
  {
   "cell_type": "code",
   "execution_count": null,
   "metadata": {},
   "outputs": [],
   "source": []
  }
 ],
 "metadata": {
  "kernelspec": {
   "display_name": "Python 3",
   "language": "python",
   "name": "python3"
  },
  "language_info": {
   "codemirror_mode": {
    "name": "ipython",
    "version": 3
   },
   "file_extension": ".py",
   "mimetype": "text/x-python",
   "name": "python",
   "nbconvert_exporter": "python",
   "pygments_lexer": "ipython3",
   "version": "3.7.3"
  }
 },
 "nbformat": 4,
 "nbformat_minor": 2
}
