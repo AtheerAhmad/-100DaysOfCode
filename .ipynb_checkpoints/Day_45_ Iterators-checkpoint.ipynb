{
 "cells": [
  {
   "cell_type": "code",
   "execution_count": 1,
   "metadata": {},
   "outputs": [
    {
     "name": "stdout",
     "output_type": "stream",
     "text": [
      "apple\n",
      "banana\n",
      "cherry\n"
     ]
    }
   ],
   "source": [
    "#Day 45 - Iterators\n",
    "\n",
    "\n",
    "#Return an iterator from a tuple, and print each value.\n",
    "\n",
    "mytuple = (\"apple\" , \"banana\" , \"cherry\")\n",
    "myit = iter(mytuple)\n",
    "\n",
    "print(next(myit))\n",
    "print(next(myit))\n",
    "print(next(myit))"
   ]
  },
  {
   "cell_type": "code",
   "execution_count": 2,
   "metadata": {},
   "outputs": [
    {
     "name": "stdout",
     "output_type": "stream",
     "text": [
      "B\n",
      "a\n",
      "n\n",
      "a\n",
      "n\n",
      "a\n"
     ]
    }
   ],
   "source": [
    "mystring = \"Banana\"\n",
    "myit = iter(mystring)\n",
    "\n",
    "print(next(myit))\n",
    "\n",
    "print(next(myit))\n",
    "\n",
    "print(next(myit))\n",
    "\n",
    "print(next(myit))\n",
    "\n",
    "print(next(myit))\n",
    "\n",
    "print(next(myit))\n"
   ]
  },
  {
   "cell_type": "code",
   "execution_count": 3,
   "metadata": {},
   "outputs": [
    {
     "name": "stdout",
     "output_type": "stream",
     "text": [
      "A\n",
      "B\n",
      "C\n"
     ]
    }
   ],
   "source": [
    "#Looping Through an Iterator\n",
    "\n",
    "#Iterate the values of a tuple.\n",
    "\n",
    "myTuple = (\"A\",\"B\",\"C\")\n",
    "\n",
    "for x in myTuple:\n",
    "    print(x)"
   ]
  },
  {
   "cell_type": "code",
   "execution_count": 4,
   "metadata": {},
   "outputs": [
    {
     "name": "stdout",
     "output_type": "stream",
     "text": [
      "B\n",
      "a\n",
      "n\n",
      "a\n",
      "n\n",
      "a\n"
     ]
    }
   ],
   "source": [
    "#Looping Through an Iterator\n",
    "mystring = \"Banana\"\n",
    "\n",
    "for x in mystring:\n",
    "    print(x)"
   ]
  },
  {
   "cell_type": "code",
   "execution_count": 5,
   "metadata": {},
   "outputs": [
    {
     "name": "stdout",
     "output_type": "stream",
     "text": [
      "1\n",
      "2\n",
      "3\n",
      "4\n",
      "5\n"
     ]
    }
   ],
   "source": [
    "#Create an Iterator\n",
    "#Create an iterator that returns numbers, starting with 1,\n",
    "#and each sequence will increase by one (returning 1,2,3,4,5 etc.)\n",
    "\n",
    "class Mynumbers:\n",
    "   \n",
    "        def __iter__(self):\n",
    "            self.a = 1   #intial value for var a \n",
    "            return self\n",
    "    \n",
    "        def __next__(self):\n",
    "            x = self.a \n",
    "            self.a += 1\n",
    "            return x\n",
    "    \n",
    "myclass = Mynumbers()\n",
    "myiter = iter(myclass)\n",
    "    \n",
    "print(next(myiter))\n",
    "print(next(myiter))\n",
    "print(next(myiter))\n",
    "print(next(myiter))\n",
    "print(next(myiter))\n",
    "    "
   ]
  },
  {
   "cell_type": "code",
   "execution_count": 6,
   "metadata": {},
   "outputs": [
    {
     "name": "stdout",
     "output_type": "stream",
     "text": [
      "1\n",
      "2\n",
      "3\n",
      "4\n",
      "5\n",
      "6\n",
      "7\n",
      "8\n",
      "9\n",
      "10\n",
      "11\n",
      "12\n",
      "13\n",
      "14\n",
      "15\n",
      "16\n",
      "17\n",
      "18\n",
      "19\n",
      "20\n"
     ]
    }
   ],
   "source": [
    "class Mynumbers:\n",
    "    def __iter__(self):\n",
    "        self.a = 1   #intial value for var a \n",
    "        return self\n",
    "    \n",
    "    def __next__(self):\n",
    "        if self.a <= 20:\n",
    "            x = self.a\n",
    "            self.a += 1\n",
    "            return x\n",
    "        else:\n",
    "            raise StopIteration\n",
    "    \n",
    "myclass = Mynumbers()\n",
    "myiter = iter(myclass)\n",
    "    \n",
    "for x in myiter:\n",
    "    print(x)\n",
    "  "
   ]
  }
 ],
 "metadata": {
  "kernelspec": {
   "display_name": "Python 3",
   "language": "python",
   "name": "python3"
  },
  "language_info": {
   "codemirror_mode": {
    "name": "ipython",
    "version": 3
   },
   "file_extension": ".py",
   "mimetype": "text/x-python",
   "name": "python",
   "nbconvert_exporter": "python",
   "pygments_lexer": "ipython3",
   "version": "3.7.3"
  }
 },
 "nbformat": 4,
 "nbformat_minor": 2
}
