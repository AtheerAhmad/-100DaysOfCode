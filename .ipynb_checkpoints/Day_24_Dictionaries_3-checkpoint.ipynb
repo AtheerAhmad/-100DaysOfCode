{
 "cells": [
  {
   "cell_type": "code",
   "execution_count": 1,
   "metadata": {},
   "outputs": [
    {
     "name": "stdout",
     "output_type": "stream",
     "text": [
      "{'Brand': 'Ford', 'Model': 'Mustang', 'Year': 2019}\n"
     ]
    }
   ],
   "source": [
    "#Day 24 - Dictionaries 3\n",
    "#Make a copy of dictionary with the copy() method.\n",
    "Dict1 = {\"Brand\" : \"Ford\" , \"Model\" : \"Mustang\" , \"Year\":2019}\n",
    "mydict = Dict1.copy()\n",
    "print(mydict)"
   ]
  },
  {
   "cell_type": "code",
   "execution_count": 2,
   "metadata": {},
   "outputs": [
    {
     "name": "stdout",
     "output_type": "stream",
     "text": [
      "{'Brand': 'Ford', 'Model': 'Mustang', 'Year': 2019}\n"
     ]
    }
   ],
   "source": [
    "#Another way to make a copy is to use the built-in method dict()\n",
    "mydict = dict(Dict1)\n",
    "print(mydict)"
   ]
  },
  {
   "cell_type": "code",
   "execution_count": 3,
   "metadata": {},
   "outputs": [
    {
     "name": "stdout",
     "output_type": "stream",
     "text": [
      "{'Child_1': {'name': 'Saleh', 'year': 2004}, 'Child_2': {'name': 'Mohammad', 'year': 2007}, 'Child_3': {'name': 'Nada', 'year': 2011}}\n"
     ]
    }
   ],
   "source": [
    "#A dictionary can also contain many dictionaries, this is called nested dictionaries\n",
    "#Create a dictionary that contain three dictionaries\n",
    "myfamily = {\n",
    "    \n",
    "    \"Child_1\": {\"name\": \"Saleh\", \n",
    "               \"year\" : 2004 } ,\n",
    "    \n",
    "     \n",
    "    \"Child_2\" : {\"name\" : \"Mohammad\" , \n",
    "                 \"year\" : 2007},\n",
    "    \n",
    "    \"Child_3\" : {\"name\" : \"Nada\" , \n",
    "                 \"year\" : 2011},\n",
    "      }\n",
    "print(myfamily)"
   ]
  },
  {
   "cell_type": "code",
   "execution_count": 4,
   "metadata": {},
   "outputs": [
    {
     "name": "stdout",
     "output_type": "stream",
     "text": [
      "{'Child_1': {'name': 'Mohammad', 'year': 2004}, 'Child_2': {'name': 'Saleh', 'year': 2007}, 'Child_3': {'name': 'Nada', 'year': 2011}}\n"
     ]
    }
   ],
   "source": [
    "#Create three dictionaries,\n",
    "#then create one dictionary that will contain the other three dictionaries.\n",
    "Child_1 = {\"name\": \"Mohammad\", \n",
    "          \"year\" : 2004 } \n",
    "\n",
    "Child_2= {\"name\" : \"Saleh\" , \n",
    "          \"year\" : 2007}\n",
    "\n",
    "Child_3={\"name\" : \"Nada\" , \n",
    "         \"year\" : 2011}\n",
    "\n",
    "myfamily = {\n",
    "    \"Child_1\" : Child_1,\n",
    "    \n",
    "    \"Child_2\" : Child_2,\n",
    "    \n",
    "    \"Child_3\" : Child_3\n",
    "}\n",
    "print(myfamily)"
   ]
  },
  {
   "cell_type": "code",
   "execution_count": 5,
   "metadata": {},
   "outputs": [
    {
     "name": "stdout",
     "output_type": "stream",
     "text": [
      "{'sky': 'Blue', 'Tree': 'Green'}\n"
     ]
    }
   ],
   "source": [
    "#The dict() Constructor\n",
    "#use the dict() constructor to make a new dictionary.\n",
    "Dict2 = dict(sky=\"Blue\" , Tree=\"Green\")\n",
    "\n",
    "#NOTE: That keywords are not string literals.\n",
    "#NOTE: the use of equals rather than colon for the assignment\n",
    "\n",
    "print(Dict2)"
   ]
  }
 ],
 "metadata": {
  "kernelspec": {
   "display_name": "Python 3",
   "language": "python",
   "name": "python3"
  },
  "language_info": {
   "codemirror_mode": {
    "name": "ipython",
    "version": 3
   },
   "file_extension": ".py",
   "mimetype": "text/x-python",
   "name": "python",
   "nbconvert_exporter": "python",
   "pygments_lexer": "ipython3",
   "version": "3.7.3"
  }
 },
 "nbformat": 4,
 "nbformat_minor": 2
}
