{
 "cells": [
  {
   "cell_type": "code",
   "execution_count": 1,
   "metadata": {},
   "outputs": [
    {
     "name": "stdout",
     "output_type": "stream",
     "text": [
      "\n",
      " ['B', 'C'] \n",
      " ['A', 'B'] \n",
      " ['C'] \n",
      " ['A', 'B', 'C', 'D']\n"
     ]
    }
   ],
   "source": [
    "#Day 14 | List\n",
    "\n",
    "#How to divide the list : \n",
    "\n",
    "list_4 = [\"A\" , \"B\" , \"C\" , \"D\" , \"E\"]\n",
    "\n",
    "print(\"\\n\",list_4[1:3], \"\\n\" , list_4[0:2] , \"\\n\" , list_4[2:3] ,\"\\n\" , list_4[0:4])\n"
   ]
  },
  {
   "cell_type": "code",
   "execution_count": 2,
   "metadata": {},
   "outputs": [
    {
     "name": "stdout",
     "output_type": "stream",
     "text": [
      "Yes, 'D' is in the alphabetical list\n"
     ]
    }
   ],
   "source": [
    "#To determine if a specified item is present in a list use the in keyword.\n",
    "\n",
    "if \"D\" in list_4:\n",
    "    print(\"Yes, 'D' is in the alphabetical list\")\n",
    "    "
   ]
  },
  {
   "cell_type": "code",
   "execution_count": 3,
   "metadata": {},
   "outputs": [
    {
     "name": "stdout",
     "output_type": "stream",
     "text": [
      "\n",
      " ['Python', 'Python', 'Python', 'Python']\n"
     ]
    }
   ],
   "source": [
    "#To repeat an item in a list, use the * operator.\n",
    "\n",
    "list_4 = [\"Python\"] *4\n",
    "print(\"\\n\",list_4)\n"
   ]
  },
  {
   "cell_type": "code",
   "execution_count": 4,
   "metadata": {},
   "outputs": [
    {
     "name": "stdout",
     "output_type": "stream",
     "text": [
      "['Red', 'Blue', 'Green', 'Rose', 'Sky', 'Tree'] \n",
      "\n",
      "[1, 2, 3, 4, 1.2, 2.0, 3.1, 4.5]\n"
     ]
    }
   ],
   "source": [
    "#To add 2lists or more into one list, use the + operator.\n",
    "\n",
    "List_1 = [\"Red\" , \"Blue\" , \"Green\"]\n",
    "List_2 = [\"Rose\" , \"Sky\" , \"Tree\"]\n",
    "List_3 = List_1 + List_2\n",
    "print(List_3,\"\\n\")\n",
    "\n",
    "#Example using float&int numbers:\n",
    "listnum1 = [ 1, 2, 3, 4 ]\n",
    "listnum2 = [1.2 , 2.0 , 3.1, 4.5]\n",
    "listnum3 = listnum1 + listnum2\n",
    "print(listnum3)\n",
    "\n"
   ]
  }
 ],
 "metadata": {
  "kernelspec": {
   "display_name": "Python 3",
   "language": "python",
   "name": "python3"
  },
  "language_info": {
   "codemirror_mode": {
    "name": "ipython",
    "version": 3
   },
   "file_extension": ".py",
   "mimetype": "text/x-python",
   "name": "python",
   "nbconvert_exporter": "python",
   "pygments_lexer": "ipython3",
   "version": "3.7.3"
  }
 },
 "nbformat": 4,
 "nbformat_minor": 2
}
