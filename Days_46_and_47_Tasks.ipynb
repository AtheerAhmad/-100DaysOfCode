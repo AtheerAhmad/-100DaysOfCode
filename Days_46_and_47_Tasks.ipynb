{
 "cells": [
  {
   "cell_type": "code",
   "execution_count": 1,
   "metadata": {},
   "outputs": [
    {
     "name": "stdout",
     "output_type": "stream",
     "text": [
      "Number of books: 300 Number of shelfs: 45\n"
     ]
    }
   ],
   "source": [
    "#Days 46 and 47 | Tasks\n",
    "\n",
    "#1.\n",
    "class Library:\n",
    "    def __init__(self,book,shelf):\n",
    "        self.book = book\n",
    "        self.shelf = shelf\n",
    "    def book_shelf_print(self):\n",
    "        print(\"Number of books:\",self.book,\"Number of shelfs:\",self.shelf)\n",
    "        \n",
    "b = Library(300,45)\n",
    "b.book_shelf_print()\n",
    "\n",
    "\n"
   ]
  },
  {
   "cell_type": "code",
   "execution_count": 2,
   "metadata": {},
   "outputs": [
    {
     "name": "stdout",
     "output_type": "stream",
     "text": [
      "Physics books\n",
      "Number of books: 300 Number of shelfs: 45 Name of book: Physics books\n"
     ]
    }
   ],
   "source": [
    "#2.\n",
    "class science_section(Library):\n",
    "    def __init__(self,book,shelf,name):\n",
    "        Library.__init__(self,book,shelf)\n",
    "                #Add Properties\n",
    "        self.nameOfbooks = name \n",
    "        \n",
    "    def nameprint(self):\n",
    "         print(\"Number of books:\",self.book,\"Number of shelfs:\",self.shelf,\"Name of book:\",self.nameOfbooks)\n",
    "        \n",
    "n = science_section(300,45,\"Physics books\")\n",
    "print(n.nameOfbooks)\n",
    "n.nameprint()"
   ]
  },
  {
   "cell_type": "code",
   "execution_count": 3,
   "metadata": {},
   "outputs": [
    {
     "name": "stdout",
     "output_type": "stream",
     "text": [
      "The content object of child class is : Physics books \n",
      "\n",
      "Number of books: 300 Number of shelfs: 45 Name of book: Physics books \n",
      "\n",
      "After change the number of books: 20 \n",
      " After change the number of shelfs: 4\n"
     ]
    }
   ],
   "source": [
    "#3.\n",
    "class science_section(Library):\n",
    "    def __init__(self,book,shelf,name):\n",
    "        Library.__init__(self,book,shelf)\n",
    "                #Add Properties\n",
    "        self.nameOfbooks = name \n",
    "        \n",
    "    def nameprint(self):\n",
    "         print(\"Number of books:\",self.book,\"Number of shelfs:\",self.shelf,\"Name of book:\",self.nameOfbooks,\"\\n\")\n",
    "        \n",
    "n = science_section(300,45,\"Physics books\")\n",
    "print(\"The content object of child class is :\",n.nameOfbooks,\"\\n\")\n",
    "n.nameprint()\n",
    "n.book = 20\n",
    "n.shelf = 4\n",
    "print(\"After change the number of books:\",n.book,\"\\n\" ,\"After change the number of shelfs:\",n.shelf)"
   ]
  }
 ],
 "metadata": {
  "kernelspec": {
   "display_name": "Python 3",
   "language": "python",
   "name": "python3"
  },
  "language_info": {
   "codemirror_mode": {
    "name": "ipython",
    "version": 3
   },
   "file_extension": ".py",
   "mimetype": "text/x-python",
   "name": "python",
   "nbconvert_exporter": "python",
   "pygments_lexer": "ipython3",
   "version": "3.7.3"
  }
 },
 "nbformat": 4,
 "nbformat_minor": 2
}
