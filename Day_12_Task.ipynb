{
 "cells": [
  {
   "cell_type": "code",
   "execution_count": 1,
   "metadata": {},
   "outputs": [
    {
     "name": "stdout",
     "output_type": "stream",
     "text": [
      "Before : \n",
      " Please, I want {} sandwishes and {} donutes\n",
      "After : \n",
      " Please, We want 5 sandwishes and 7 donutes\n"
     ]
    }
   ],
   "source": [
    "#Day 12 | Task\n",
    "\n",
    "our_order = \"\"\"Please, I want {} sandwishes and {} donutes\"\"\"\n",
    "\n",
    "print(\"Before : \\n \" + our_order)\n",
    "\n",
    "sandwishes = 5\n",
    "\n",
    "donutes = 7\n",
    "\n",
    "print(\"After : \\n \" + our_order.replace(\"I\", \"We\").format(sandwishes,donutes))\n"
   ]
  }
 ],
 "metadata": {
  "kernelspec": {
   "display_name": "Python 3",
   "language": "python",
   "name": "python3"
  },
  "language_info": {
   "codemirror_mode": {
    "name": "ipython",
    "version": 3
   },
   "file_extension": ".py",
   "mimetype": "text/x-python",
   "name": "python",
   "nbconvert_exporter": "python",
   "pygments_lexer": "ipython3",
   "version": "3.7.3"
  }
 },
 "nbformat": 4,
 "nbformat_minor": 2
}
