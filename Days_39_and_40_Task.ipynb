{
 "cells": [
  {
   "cell_type": "code",
   "execution_count": 1,
   "metadata": {},
   "outputs": [
    {
     "name": "stdout",
     "output_type": "stream",
     "text": [
      "125\n"
     ]
    }
   ],
   "source": [
    "#Days 39 and 40 - Task\n",
    "\n",
    "#Recurision\n",
    "# An example of a recursive function to\n",
    "# find the factorial of a number\n",
    "\n",
    "def five_cubic(x,y):\n",
    "    if y == 1:\n",
    "        return x\n",
    "    else:\n",
    "        return (x * five_cubic(x,y-1))\n",
    "\n",
    "print(five_cubic(5,3))"
   ]
  },
  {
   "cell_type": "code",
   "execution_count": 2,
   "metadata": {},
   "outputs": [
    {
     "name": "stdout",
     "output_type": "stream",
     "text": [
      "Positive numbers in the list:  [2, 3, 7, 9, 88]\n"
     ]
    }
   ],
   "source": [
    "#Print positive numbers in the list using lambda.\n",
    "list_of_numbers = [-4,-6,-5,-1,2,3,7,9,88]\n",
    "positive_numbers = list(filter(lambda x : (x>0), list_of_numbers)) \n",
    "  \n",
    "print(\"Positive numbers in the list: \", positive_numbers)"
   ]
  }
 ],
 "metadata": {
  "kernelspec": {
   "display_name": "Python 3",
   "language": "python",
   "name": "python3"
  },
  "language_info": {
   "codemirror_mode": {
    "name": "ipython",
    "version": 3
   },
   "file_extension": ".py",
   "mimetype": "text/x-python",
   "name": "python",
   "nbconvert_exporter": "python",
   "pygments_lexer": "ipython3",
   "version": "3.7.3"
  }
 },
 "nbformat": 4,
 "nbformat_minor": 2
}
