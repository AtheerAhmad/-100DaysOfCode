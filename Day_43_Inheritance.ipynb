{
 "cells": [
  {
   "cell_type": "code",
   "execution_count": 1,
   "metadata": {},
   "outputs": [
    {
     "name": "stdout",
     "output_type": "stream",
     "text": [
      "Mohammad Ahmad\n",
      "Sara Mohammad\n"
     ]
    }
   ],
   "source": [
    "#Day 43 - Inheritance\n",
    "\n",
    "#Create a Parent Class\n",
    "\n",
    "class Person:\n",
    "    def __init__(self,fname,lname):\n",
    "        self.firstname = fname\n",
    "        self.lastname= lname\n",
    "        \n",
    "    def printname(self):\n",
    "        print(self.firstname , self.lastname)\n",
    "        \n",
    "x = Person(\"Mohammad\" , \"Ahmad\")\n",
    "x.printname()\n",
    "\n",
    "\n",
    "#Create a class named Student, which will inherit the properties and methods from\n",
    "#the Person class.\n",
    "\n",
    "class Student(Person):\n",
    "     #pass\n",
    "    #Add the __init__() function to the Student class.\"(instead of the pass keyword).\"\n",
    "     def __init__(self , fname, lname):\n",
    "        Person.__init__(self , fname, lname)\n",
    "    \n",
    "    \n",
    "x = Student(\"Sara\" , \"Mohammad\")\n",
    "x.printname()\n",
    "  "
   ]
  }
 ],
 "metadata": {
  "kernelspec": {
   "display_name": "Python 3",
   "language": "python",
   "name": "python3"
  },
  "language_info": {
   "codemirror_mode": {
    "name": "ipython",
    "version": 3
   },
   "file_extension": ".py",
   "mimetype": "text/x-python",
   "name": "python",
   "nbconvert_exporter": "python",
   "pygments_lexer": "ipython3",
   "version": "3.7.3"
  }
 },
 "nbformat": 4,
 "nbformat_minor": 2
}
