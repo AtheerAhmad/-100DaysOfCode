{
 "cells": [
  {
   "cell_type": "code",
   "execution_count": 1,
   "metadata": {},
   "outputs": [
    {
     "name": "stdout",
     "output_type": "stream",
     "text": [
      "Yes, 'Model' is one of the keys in Dict1 dictionary\n"
     ]
    }
   ],
   "source": [
    "#Day 23 - Dictionaries 2\n",
    "\n",
    "#Check if Key Exists\n",
    "#Check if \"Model\" is present in the dictionary.\n",
    "Dict1 = {\"Brand\" : \"Ford\" ,\n",
    "         \"Model\" : \"Mustang\" ,\n",
    "         \"year\" : 1964}\n",
    "\n",
    "if \"Model\" in Dict1 :\n",
    "    print(\"Yes, 'Model' is one of the keys in Dict1 dictionary\")"
   ]
  },
  {
   "cell_type": "code",
   "execution_count": 2,
   "metadata": {},
   "outputs": [
    {
     "name": "stdout",
     "output_type": "stream",
     "text": [
      "3\n"
     ]
    }
   ],
   "source": [
    "#Dictionary Length\n",
    "#Print the number of items in the dictionary.\n",
    "print(len(Dict1))"
   ]
  },
  {
   "cell_type": "code",
   "execution_count": 3,
   "metadata": {},
   "outputs": [
    {
     "name": "stdout",
     "output_type": "stream",
     "text": [
      "{'Brand': 'Ford', 'Model': 'Mustang', 'year': 1964, 'Color': 'Red'}\n"
     ]
    }
   ],
   "source": [
    "#Adding Items : adding an item to the dictionary is done by using a new index key and assigning a value to it.\n",
    "Dict1[\"Color\"] = \"Red\"\n",
    "print(Dict1)"
   ]
  },
  {
   "cell_type": "code",
   "execution_count": 4,
   "metadata": {},
   "outputs": [
    {
     "name": "stdout",
     "output_type": "stream",
     "text": [
      "{'Brand': 'Ford', 'year': 1964, 'Color': 'Red'}\n"
     ]
    }
   ],
   "source": [
    "#Removing Items\n",
    "#The pop() method removes the item with the specified key name.\n",
    "Dict1.pop(\"Model\")\n",
    "print(Dict1)"
   ]
  },
  {
   "cell_type": "code",
   "execution_count": 5,
   "metadata": {},
   "outputs": [
    {
     "name": "stdout",
     "output_type": "stream",
     "text": [
      "{'Brand': 'Ford', 'year': 1964}\n"
     ]
    }
   ],
   "source": [
    "#popitem() method :removes the last inserted item.\n",
    "#(in versions before 3.7, a random item is removed instead).\n",
    "Dict1.popitem()\n",
    "print(Dict1)"
   ]
  },
  {
   "cell_type": "code",
   "execution_count": 6,
   "metadata": {},
   "outputs": [
    {
     "name": "stdout",
     "output_type": "stream",
     "text": [
      "{'year': 1964}\n"
     ]
    }
   ],
   "source": [
    "#The del keyword removes the item with the specified key name\n",
    "del Dict1['Brand']\n",
    "print(Dict1)\n"
   ]
  },
  {
   "cell_type": "code",
   "execution_count": 7,
   "metadata": {},
   "outputs": [
    {
     "ename": "NameError",
     "evalue": "name 'Dict' is not defined",
     "output_type": "error",
     "traceback": [
      "\u001b[1;31m---------------------------------------------------------------------------\u001b[0m",
      "\u001b[1;31mNameError\u001b[0m                                 Traceback (most recent call last)",
      "\u001b[1;32m<ipython-input-7-4b99a99b02c7>\u001b[0m in \u001b[0;36m<module>\u001b[1;34m\u001b[0m\n\u001b[0;32m      1\u001b[0m \u001b[1;31m#The del keyword can also delete the dictionary completely.\u001b[0m\u001b[1;33m\u001b[0m\u001b[1;33m\u001b[0m\u001b[1;33m\u001b[0m\u001b[0m\n\u001b[1;32m----> 2\u001b[1;33m \u001b[1;32mdel\u001b[0m \u001b[0mDict\u001b[0m\u001b[1;33m\u001b[0m\u001b[1;33m\u001b[0m\u001b[0m\n\u001b[0m\u001b[0;32m      3\u001b[0m \u001b[0mprint\u001b[0m\u001b[1;33m(\u001b[0m\u001b[0mDict1\u001b[0m\u001b[1;33m)\u001b[0m \u001b[1;31m##this will cause an error because \"Dict1\" no longer exists.\u001b[0m\u001b[1;33m\u001b[0m\u001b[1;33m\u001b[0m\u001b[0m\n",
      "\u001b[1;31mNameError\u001b[0m: name 'Dict' is not defined"
     ]
    }
   ],
   "source": [
    "#The del keyword can also delete the dictionary completely.\n",
    "del Dict\n",
    "print(Dict1) ##this will cause an error because \"Dict1\" no longer exists."
   ]
  },
  {
   "cell_type": "code",
   "execution_count": 8,
   "metadata": {},
   "outputs": [
    {
     "name": "stdout",
     "output_type": "stream",
     "text": [
      "{}\n"
     ]
    }
   ],
   "source": [
    "#The clear() keyword empties the dictionary.\n",
    "Dict1.clear()\n",
    "print(Dict1)"
   ]
  }
 ],
 "metadata": {
  "kernelspec": {
   "display_name": "Python 3",
   "language": "python",
   "name": "python3"
  },
  "language_info": {
   "codemirror_mode": {
    "name": "ipython",
    "version": 3
   },
   "file_extension": ".py",
   "mimetype": "text/x-python",
   "name": "python",
   "nbconvert_exporter": "python",
   "pygments_lexer": "ipython3",
   "version": "3.7.3"
  }
 },
 "nbformat": 4,
 "nbformat_minor": 2
}
