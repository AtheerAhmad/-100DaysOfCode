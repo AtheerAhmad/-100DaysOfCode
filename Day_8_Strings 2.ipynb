{
 "cells": [
  {
   "cell_type": "code",
   "execution_count": 1,
   "metadata": {},
   "outputs": [
    {
     "name": "stdout",
     "output_type": "stream",
     "text": [
      "Hello , World! \n",
      "\n",
      "16 \n",
      "\n",
      " hello , world!  \n",
      "\n",
      " HELLO , WORLD!  \n",
      "\n",
      " Jello , World!  \n",
      "\n",
      "[' Hello ', ' World! '] \n",
      "\n"
     ]
    }
   ],
   "source": [
    "#Day_8\n",
    "\n",
    "#Strip method : returns \"Hello, World!\" without white space\n",
    "\n",
    "a = \" Hello , World! \"\n",
    "\n",
    "print(a.strip() , \"\\n\") \n",
    "\n",
    "\n",
    "#len method : returns the length of strings\n",
    "\n",
    "print(len(a) , \"\\n\")\n",
    "\n",
    "\n",
    "#Lower & Upper methods : returns the strings in lower and upper case.\n",
    "\n",
    "\n",
    "print(a.lower() , \"\\n\")\n",
    "\n",
    "print(a.upper() , \"\\n\")\n",
    "\n",
    "\n",
    "#Replace method :  replace a string with another string.\n",
    "\n",
    "print(a.replace(\"H\", \"J\") , \"\\n\")\n",
    "\n",
    "\n",
    "#split method : splits the string into substrings..\n",
    "\n",
    "print(a.split(\",\") , \"\\n\")"
   ]
  },
  {
   "cell_type": "code",
   "execution_count": null,
   "metadata": {},
   "outputs": [],
   "source": []
  }
 ],
 "metadata": {
  "kernelspec": {
   "display_name": "Python 3",
   "language": "python",
   "name": "python3"
  },
  "language_info": {
   "codemirror_mode": {
    "name": "ipython",
    "version": 3
   },
   "file_extension": ".py",
   "mimetype": "text/x-python",
   "name": "python",
   "nbconvert_exporter": "python",
   "pygments_lexer": "ipython3",
   "version": "3.7.3"
  }
 },
 "nbformat": 4,
 "nbformat_minor": 2
}
