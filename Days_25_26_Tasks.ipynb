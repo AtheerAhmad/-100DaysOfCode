{
 "cells": [
  {
   "cell_type": "code",
   "execution_count": 1,
   "metadata": {},
   "outputs": [
    {
     "name": "stdout",
     "output_type": "stream",
     "text": [
      "{1, 3, 5, 7, 8}\n"
     ]
    }
   ],
   "source": [
    "#Days 25 & 26 - Tasks\n",
    "set_Of_numbers = {1,3,5,7,8}\n",
    "print(set_Of_numbers)"
   ]
  },
  {
   "cell_type": "code",
   "execution_count": 2,
   "metadata": {},
   "outputs": [
    {
     "name": "stdout",
     "output_type": "stream",
     "text": [
      "{1, 2, 3, 4, 5, 7, 8}\n"
     ]
    }
   ],
   "source": [
    "#Add Items to the set \"more than one items\" :\n",
    "set_Of_numbers.update([4,8,1,2])\n",
    "print(set_Of_numbers)"
   ]
  },
  {
   "cell_type": "code",
   "execution_count": 3,
   "metadata": {},
   "outputs": [
    {
     "name": "stdout",
     "output_type": "stream",
     "text": [
      "{1, 2, 3, 4, 5, 7}\n"
     ]
    }
   ],
   "source": [
    "#remove the \"8\" item :\n",
    "set_Of_numbers.remove(8)\n",
    "print (set_Of_numbers)"
   ]
  },
  {
   "cell_type": "code",
   "execution_count": 4,
   "metadata": {},
   "outputs": [
    {
     "name": "stdout",
     "output_type": "stream",
     "text": [
      "set()\n"
     ]
    }
   ],
   "source": [
    "#Clear the set:\n",
    "set_Of_numbers.clear()\n",
    "print(set_Of_numbers)"
   ]
  },
  {
   "cell_type": "code",
   "execution_count": 5,
   "metadata": {},
   "outputs": [
    {
     "name": "stdout",
     "output_type": "stream",
     "text": [
      "{'Name': 'Pigeon', 'Type': 'Bird', 'Skin Cover': 'Feathers'}\n"
     ]
    }
   ],
   "source": [
    "#make a dictionary\n",
    "Dictionary = {\n",
    "    \n",
    "    \"Name\" : \"Pigeon\" ,\n",
    "       \n",
    "    \"Type\" : \"Bird\" ,\n",
    "    \n",
    "    \"Skin Cover\" : \"Feathers\"\n",
    "}\n",
    "\n",
    "print(Dictionary)"
   ]
  },
  {
   "cell_type": "code",
   "execution_count": 6,
   "metadata": {},
   "outputs": [
    {
     "name": "stdout",
     "output_type": "stream",
     "text": [
      "The value of the 'Type' key is:  Bird\n"
     ]
    }
   ],
   "source": [
    "#Print the value of the type key :\n",
    "x = Dictionary[\"Type\"]\n",
    "print(\"The value of the 'Type' key is: \",x)"
   ]
  },
  {
   "cell_type": "code",
   "execution_count": 7,
   "metadata": {},
   "outputs": [
    {
     "name": "stdout",
     "output_type": "stream",
     "text": [
      "{'Name': 'Pigeon', 'Type': 'Bird', 'Skin Cover': 'Gray feathers'}\n"
     ]
    }
   ],
   "source": [
    "#Change Values\n",
    "Dictionary[\"Skin Cover\"] = \"Gray feathers\"\n",
    "print(Dictionary)"
   ]
  }
 ],
 "metadata": {
  "kernelspec": {
   "display_name": "Python 3",
   "language": "python",
   "name": "python3"
  },
  "language_info": {
   "codemirror_mode": {
    "name": "ipython",
    "version": 3
   },
   "file_extension": ".py",
   "mimetype": "text/x-python",
   "name": "python",
   "nbconvert_exporter": "python",
   "pygments_lexer": "ipython3",
   "version": "3.7.3"
  }
 },
 "nbformat": 4,
 "nbformat_minor": 2
}
