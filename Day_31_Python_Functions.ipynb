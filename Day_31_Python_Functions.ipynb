{
 "cells": [
  {
   "cell_type": "code",
   "execution_count": 1,
   "metadata": {},
   "outputs": [
    {
     "name": "stdout",
     "output_type": "stream",
     "text": [
      "Hello from a function\n"
     ]
    }
   ],
   "source": [
    "#Day 31 - Python Functions\n",
    "\n",
    "#In Python a function is defined using the def keyword\n",
    "\n",
    "#To call a function, use the function name followed by parenthesis\n",
    "\n",
    "def my_function() :\n",
    "    print(\"Hello from a function\")\n",
    "my_function()\n"
   ]
  },
  {
   "cell_type": "code",
   "execution_count": 2,
   "metadata": {},
   "outputs": [
    {
     "name": "stdout",
     "output_type": "stream",
     "text": [
      "Emil Refsnes \n",
      "Tobias Refsnes \n",
      "Linus Refsnes \n"
     ]
    }
   ],
   "source": [
    "#Parameters\n",
    "\n",
    "def my_Function1(fname):\n",
    "    \n",
    "    print(fname + \" Refsnes \")\n",
    "    \n",
    "my_Function1(\"Emil\")\n",
    "my_Function1(\"Tobias\")\n",
    "my_Function1(\"Linus\")\n",
    "    "
   ]
  },
  {
   "cell_type": "code",
   "execution_count": 3,
   "metadata": {},
   "outputs": [
    {
     "name": "stdout",
     "output_type": "stream",
     "text": [
      "I am from Sweden\n",
      "I am from India\n",
      "I am from KSA\n",
      "I am from Brazil\n"
     ]
    }
   ],
   "source": [
    "def country_func(country = \"KSA\"):\n",
    "    print(\"I am from \" + country)\n",
    "    \n",
    "country_func(\"Sweden\")\n",
    "country_func(\"India\")\n",
    "country_func()\n",
    "country_func(\"Brazil\")\n",
    "    "
   ]
  }
 ],
 "metadata": {
  "kernelspec": {
   "display_name": "Python 3",
   "language": "python",
   "name": "python3"
  },
  "language_info": {
   "codemirror_mode": {
    "name": "ipython",
    "version": 3
   },
   "file_extension": ".py",
   "mimetype": "text/x-python",
   "name": "python",
   "nbconvert_exporter": "python",
   "pygments_lexer": "ipython3",
   "version": "3.7.3"
  }
 },
 "nbformat": 4,
 "nbformat_minor": 2
}
