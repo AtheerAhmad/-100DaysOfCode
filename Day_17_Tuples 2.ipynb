{
 "cells": [
  {
   "cell_type": "code",
   "execution_count": 1,
   "metadata": {},
   "outputs": [
    {
     "name": "stdout",
     "output_type": "stream",
     "text": [
      "Yes , 'Apple' is in the fruits tuple\n"
     ]
    }
   ],
   "source": [
    "#Day 17 | Tuples 2\n",
    "\n",
    "#Check if Item Exists\n",
    "tuple_1 = (\"Apple\" , \"Banana\" , \"Cherry\" )\n",
    "if \"Apple\" in tuple_1 :\n",
    "    print(\"Yes , 'Apple' is in the fruits tuple\")\n",
    "    "
   ]
  },
  {
   "cell_type": "code",
   "execution_count": 2,
   "metadata": {},
   "outputs": [
    {
     "name": "stdout",
     "output_type": "stream",
     "text": [
      "('Python', 'Python', 'Python')\n"
     ]
    }
   ],
   "source": [
    "#Repeat Item\n",
    "tuple_2 = (\"Python\" ,) * 3\n",
    "print (tuple_2)"
   ]
  },
  {
   "cell_type": "code",
   "execution_count": 3,
   "metadata": {},
   "outputs": [
    {
     "name": "stdout",
     "output_type": "stream",
     "text": [
      "(1, 2, 3, 4, 5, 6)\n",
      "(3, 4, 5, 6, 1, 2, 3)\n"
     ]
    }
   ],
   "source": [
    "#To add 2 tuples or more into one tuple.\n",
    "thisTuple1 = (1,2,3,4)\n",
    "thisTuple2 = (5,6)\n",
    "thisTuple = thisTuple1 +thisTuple2 \n",
    "print(thisTuple)\n",
    "\n",
    "#another example:\n",
    "x = (3,4,5,6)\n",
    "x = x + (1,2,3)\n",
    "print(x)"
   ]
  },
  {
   "cell_type": "code",
   "execution_count": 4,
   "metadata": {},
   "outputs": [
    {
     "name": "stdout",
     "output_type": "stream",
     "text": [
      "3\n"
     ]
    }
   ],
   "source": [
    "#Tuple Length\n",
    "tuple_3 = (\"A\" , \"B\" , \"C\")\n",
    "print(len(tuple_3))"
   ]
  },
  {
   "cell_type": "code",
   "execution_count": 5,
   "metadata": {},
   "outputs": [
    {
     "name": "stdout",
     "output_type": "stream",
     "text": [
      "('Blue', 'Pink', 'Black')\n",
      "(3, 4, 5, 6, 'A', 'B')\n"
     ]
    }
   ],
   "source": [
    "#The tuple() Constructor\n",
    "tuple_4 = tuple((\"Blue\" , \"Pink\" , \"Black\")) #note the double round-brackets\n",
    "print(tuple_4)\n",
    "\n",
    "#convert the list into tuple\n",
    "tuple_4 = [3,4,5,6, \"A\" , \"B\"]\n",
    "tuple_4 = tuple(tuple_4)\n",
    "print(tuple_4)"
   ]
  },
  {
   "cell_type": "code",
   "execution_count": 6,
   "metadata": {},
   "outputs": [
    {
     "name": "stdout",
     "output_type": "stream",
     "text": [
      "The count of e is: 2\n",
      "The index of r: 5\n"
     ]
    }
   ],
   "source": [
    "#count & index method :\n",
    "TupleMyName = (\"A\" ,\"t\" ,\"h\", \"e\" ,\"e\"  , \"r\" )\n",
    "# count element 'e'\n",
    "count = TupleMyName.count('e')\n",
    "# print count\n",
    "print('The count of e is:', count)\n",
    "\n",
    "#Index :\n",
    "\n",
    "# element 'r' is searched\n",
    "index = TupleMyName.index('r')\n",
    "\n",
    "# index is printed\n",
    "print('The index of r:', index)"
   ]
  }
 ],
 "metadata": {
  "kernelspec": {
   "display_name": "Python 3",
   "language": "python",
   "name": "python3"
  },
  "language_info": {
   "codemirror_mode": {
    "name": "ipython",
    "version": 3
   },
   "file_extension": ".py",
   "mimetype": "text/x-python",
   "name": "python",
   "nbconvert_exporter": "python",
   "pygments_lexer": "ipython3",
   "version": "3.7.3"
  }
 },
 "nbformat": 4,
 "nbformat_minor": 2
}
