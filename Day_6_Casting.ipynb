{
 "cells": [
  {
   "cell_type": "code",
   "execution_count": 1,
   "metadata": {},
   "outputs": [
    {
     "name": "stdout",
     "output_type": "stream",
     "text": [
      " 1 \n",
      " 2 \n",
      " 3\n"
     ]
    }
   ],
   "source": [
    "#Python Casting | Day 6\n",
    "\n",
    "x = int(1) # x will be 1\n",
    "y = int(2.8) # y will be 2\n",
    "z = int(\"3\") # z will be 3\n",
    "\n",
    "print(\"\",x ,\"\\n\" , y ,\"\\n\" , z)"
   ]
  },
  {
   "cell_type": "code",
   "execution_count": 2,
   "metadata": {},
   "outputs": [
    {
     "name": "stdout",
     "output_type": "stream",
     "text": [
      " 1.0 \n",
      " 2.8 \n",
      " 3.0 \n",
      " 4.2\n"
     ]
    }
   ],
   "source": [
    "x = float (1) # x will be 1.0\n",
    "y = float (2.8) # y will be 2.8\n",
    "z = float (\"3\") # z will be 3.0\n",
    "w = float (\"4.2\") # w will be 4.2 \n",
    "print( \"\",x ,\"\\n\" , y ,\"\\n\" , z ,\"\\n\" , w)"
   ]
  },
  {
   "cell_type": "code",
   "execution_count": 3,
   "metadata": {},
   "outputs": [
    {
     "name": "stdout",
     "output_type": "stream",
     "text": [
      " Smile \n",
      " 2 \n",
      " 3.0\n"
     ]
    }
   ],
   "source": [
    "x = str(\"Smile\") # x will be 'Smile'\n",
    "y = str(2) # y will be '2'\n",
    "z = str(3.0) # z will be '3.0'\n",
    "print( \"\",x ,\"\\n\" , y ,\"\\n\" , z)"
   ]
  }
 ],
 "metadata": {
  "kernelspec": {
   "display_name": "Python 3",
   "language": "python",
   "name": "python3"
  },
  "language_info": {
   "codemirror_mode": {
    "name": "ipython",
    "version": 3
   },
   "file_extension": ".py",
   "mimetype": "text/x-python",
   "name": "python",
   "nbconvert_exporter": "python",
   "pygments_lexer": "ipython3",
   "version": "3.7.3"
  }
 },
 "nbformat": 4,
 "nbformat_minor": 2
}
