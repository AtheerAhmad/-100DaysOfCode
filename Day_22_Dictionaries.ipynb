{
 "cells": [
  {
   "cell_type": "code",
   "execution_count": 1,
   "metadata": {},
   "outputs": [
    {
     "name": "stdout",
     "output_type": "stream",
     "text": [
      "{}\n"
     ]
    }
   ],
   "source": [
    "#Day 22 - Dictionaries\n",
    "\n",
    "#Empty dictionary.\n",
    "thisdict = {}\n",
    "print(thisdict)"
   ]
  },
  {
   "cell_type": "code",
   "execution_count": 2,
   "metadata": {},
   "outputs": [
    {
     "name": "stdout",
     "output_type": "stream",
     "text": [
      "{'Brand': 'Ford', 'Model': 'Mustang', 'year': 1964}\n"
     ]
    }
   ],
   "source": [
    "Dict1 = {\"Brand\" : \"Ford\" ,\n",
    "         \"Model\" : \"Mustang\" ,\n",
    "         \"year\" : 1964}\n",
    "print(Dict1)"
   ]
  },
  {
   "cell_type": "code",
   "execution_count": 3,
   "metadata": {},
   "outputs": [
    {
     "name": "stdout",
     "output_type": "stream",
     "text": [
      "The value of the 'Model' key is:  Mustang\n"
     ]
    }
   ],
   "source": [
    "#Accessing Items :\n",
    "#Get the value of the \"Model\" key.\n",
    "x = Dict1[\"Model\"]\n",
    "print(\"The value of the 'Model' key is: \",x)"
   ]
  },
  {
   "cell_type": "code",
   "execution_count": 4,
   "metadata": {},
   "outputs": [
    {
     "name": "stdout",
     "output_type": "stream",
     "text": [
      "The value of the 'year' key is:  1964\n"
     ]
    }
   ],
   "source": [
    "#There is also a method called get() that will give you the same result.\n",
    "x = Dict1.get(\"year\")\n",
    "print(\"The value of the 'year' key is: \",x)"
   ]
  },
  {
   "cell_type": "code",
   "execution_count": 5,
   "metadata": {},
   "outputs": [
    {
     "name": "stdout",
     "output_type": "stream",
     "text": [
      "{'Brand': 'Ford', 'Model': 'Mustang', 'year': 2019}\n"
     ]
    }
   ],
   "source": [
    "#Change Values\n",
    "#Change the \"year\" to 2019.\n",
    "Dict1[\"year\"] = 2019\n",
    "print(Dict1)"
   ]
  },
  {
   "cell_type": "code",
   "execution_count": 6,
   "metadata": {},
   "outputs": [
    {
     "name": "stdout",
     "output_type": "stream",
     "text": [
      "Brand \n",
      "\n",
      "Model \n",
      "\n",
      "year \n",
      "\n"
     ]
    }
   ],
   "source": [
    "#Loop Through a Dictionary\n",
    "#Print all \"key names\" in the dictionary, one by one\n",
    "for x in Dict1:\n",
    "    print(x,\"\\n\")"
   ]
  },
  {
   "cell_type": "code",
   "execution_count": 7,
   "metadata": {},
   "outputs": [
    {
     "name": "stdout",
     "output_type": "stream",
     "text": [
      "Ford\n",
      "Mustang\n",
      "2019\n"
     ]
    }
   ],
   "source": [
    "#Print all \"values\" in the dictionary, one by one\n",
    "for x in Dict1:\n",
    "    print(Dict1[x])\n"
   ]
  },
  {
   "cell_type": "code",
   "execution_count": 8,
   "metadata": {},
   "outputs": [
    {
     "name": "stdout",
     "output_type": "stream",
     "text": [
      "Ford\n",
      "Mustang\n",
      "2019\n"
     ]
    }
   ],
   "source": [
    "#You can also use the values() function to return values of a dictionary.\n",
    "for x in Dict1.values():\n",
    "     print(x)"
   ]
  },
  {
   "cell_type": "code",
   "execution_count": 9,
   "metadata": {},
   "outputs": [
    {
     "name": "stdout",
     "output_type": "stream",
     "text": [
      "dict_values(['Ford', 'Mustang', 2019])\n"
     ]
    }
   ],
   "source": [
    "#values function without for loop\n",
    "print(Dict1.values())"
   ]
  },
  {
   "cell_type": "code",
   "execution_count": 10,
   "metadata": {},
   "outputs": [
    {
     "name": "stdout",
     "output_type": "stream",
     "text": [
      "Brand Ford\n",
      "Model Mustang\n",
      "year 2019\n"
     ]
    }
   ],
   "source": [
    "#Loop through both keys and values, by using the items() function.\n",
    "for x,y in Dict1.items():\n",
    "    print(x,y)"
   ]
  },
  {
   "cell_type": "code",
   "execution_count": 11,
   "metadata": {},
   "outputs": [
    {
     "name": "stdout",
     "output_type": "stream",
     "text": [
      "dict_items([('Brand', 'Ford'), ('Model', 'Mustang'), ('year', 2019)])\n"
     ]
    }
   ],
   "source": [
    "# items() function without for loop\n",
    "print(Dict1.items())"
   ]
  }
 ],
 "metadata": {
  "kernelspec": {
   "display_name": "Python 3",
   "language": "python",
   "name": "python3"
  },
  "language_info": {
   "codemirror_mode": {
    "name": "ipython",
    "version": 3
   },
   "file_extension": ".py",
   "mimetype": "text/x-python",
   "name": "python",
   "nbconvert_exporter": "python",
   "pygments_lexer": "ipython3",
   "version": "3.7.3"
  }
 },
 "nbformat": 4,
 "nbformat_minor": 2
}
