{
 "cells": [
  {
   "cell_type": "code",
   "execution_count": 1,
   "metadata": {},
   "outputs": [
    {
     "name": "stdout",
     "output_type": "stream",
     "text": [
      "[]\n"
     ]
    }
   ],
   "source": [
    "# Day 13 | Data Structure - List\n",
    "\n",
    "#Create a List\n",
    "s = []\n",
    "print(s)"
   ]
  },
  {
   "cell_type": "code",
   "execution_count": 2,
   "metadata": {},
   "outputs": [
    {
     "name": "stdout",
     "output_type": "stream",
     "text": [
      "Numbers List: \n",
      "  [1, 2, 3, 4, 5]\n"
     ]
    }
   ],
   "source": [
    "numbers = [1, 2, 3, 4, 5]\n",
    "print(\"Numbers List: \\n \" ,numbers)\n"
   ]
  },
  {
   "cell_type": "code",
   "execution_count": 3,
   "metadata": {},
   "outputs": [
    {
     "name": "stdout",
     "output_type": "stream",
     "text": [
      "String List: \n",
      "  ['apple', 'banana', 'cherry'] \n",
      "\n",
      "Print the 2nd item of the list: \n",
      "  banana \n",
      "\n",
      "Change the second item in list_1: \n",
      "  ['apple', 'Blackcurrant', 'cherry'] \n",
      "\n",
      "Remove First item in list_1: \n",
      " ['Blackcurrant', 'cherry']\n"
     ]
    },
    {
     "ename": "NameError",
     "evalue": "name 'list_1' is not defined",
     "output_type": "error",
     "traceback": [
      "\u001b[1;31m---------------------------------------------------------------------------\u001b[0m",
      "\u001b[1;31mNameError\u001b[0m                                 Traceback (most recent call last)",
      "\u001b[1;32m<ipython-input-3-94bb3f985ea6>\u001b[0m in \u001b[0;36m<module>\u001b[1;34m\u001b[0m\n\u001b[0;32m     20\u001b[0m \u001b[1;32mdel\u001b[0m \u001b[0mlist_1\u001b[0m\u001b[1;33m\u001b[0m\u001b[1;33m\u001b[0m\u001b[0m\n\u001b[0;32m     21\u001b[0m \u001b[1;33m\u001b[0m\u001b[0m\n\u001b[1;32m---> 22\u001b[1;33m \u001b[0mprint\u001b[0m\u001b[1;33m(\u001b[0m\u001b[0mlist_1\u001b[0m\u001b[1;33m)\u001b[0m \u001b[1;31m#Erorr bcz you have successfully deleted list_1\u001b[0m\u001b[1;33m\u001b[0m\u001b[1;33m\u001b[0m\u001b[0m\n\u001b[0m",
      "\u001b[1;31mNameError\u001b[0m: name 'list_1' is not defined"
     ]
    }
   ],
   "source": [
    "list_1 = [\"apple\" , \"banana\" , \"cherry\"]\n",
    "print(\"String List: \\n \" ,list_1 , \"\\n\")\n",
    "\n",
    "print(\"Print the 2nd item of the list: \\n \" , list_1[1] , \"\\n\")\n",
    "\n",
    "#To change the value of a specific item, refer to the index number.\n",
    "\n",
    "list_1 [1] = \"Blackcurrant\"\n",
    "\n",
    "print( \"Change the second item in list_1: \\n \",list_1, \"\\n\")\n",
    "\n",
    "#The del keyword removes the specified index.\n",
    "\n",
    "del list_1 [0]\n",
    "print(\"Remove First item in list_1: \\n\", list_1)\n",
    "\n",
    "\n",
    "#The del keyword can also delete the list completely.\n",
    "\n",
    "del list_1\n",
    "\n",
    "print(list_1) #Erorr bcz you have successfully deleted list_1\n"
   ]
  },
  {
   "cell_type": "code",
   "execution_count": 4,
   "metadata": {},
   "outputs": [
    {
     "name": "stdout",
     "output_type": "stream",
     "text": [
      "List with string and numbers : \n",
      " ['apple', 'banana', 'cherry', 1, 2, 3] \n",
      "\n"
     ]
    }
   ],
   "source": [
    "list_2 = [\"apple\" , \"banana\" , \"cherry\" , 1 , 2, 3]\n",
    "\n",
    "print(\"List with string and numbers : \\n\", list_2 , \"\\n\")\n"
   ]
  },
  {
   "cell_type": "code",
   "execution_count": 5,
   "metadata": {},
   "outputs": [
    {
     "name": "stdout",
     "output_type": "stream",
     "text": [
      "[1.0, 2.5, 7.9, 3.1, 5.12] \n",
      "\n",
      "1.0\n",
      "2.5\n",
      "7.9\n",
      "3.1\n",
      "5.12\n"
     ]
    }
   ],
   "source": [
    "DecimalNumsLsist = [1.0, 2.5 , 7.9, 3.1, 5.12]\n",
    "print(DecimalNumsLsist, \"\\n\")\n",
    "\n",
    "#using for loop to print all items in the list,one by one: \n",
    "\n",
    "for a in DecimalNumsLsist:\n",
    " print(a)\n",
    "\n"
   ]
  },
  {
   "cell_type": "code",
   "execution_count": 6,
   "metadata": {},
   "outputs": [
    {
     "name": "stdout",
     "output_type": "stream",
     "text": [
      "Islam\n",
      "Love\n",
      "Peace\n"
     ]
    }
   ],
   "source": [
    "#Print all items in the list,one by one \n",
    "list_3 = [\"Islam\" , \"Love\" , \"Peace\"]\n",
    "for x in list_3:\n",
    " print(x)\n",
    "\n"
   ]
  }
 ],
 "metadata": {
  "kernelspec": {
   "display_name": "Python 3",
   "language": "python",
   "name": "python3"
  }
 },
 "nbformat": 4,
 "nbformat_minor": 2
}
